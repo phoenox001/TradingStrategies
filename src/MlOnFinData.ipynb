{
 "cells": [
  {
   "cell_type": "code",
   "execution_count": 7,
   "id": "6cf31e41",
   "metadata": {},
   "outputs": [
    {
     "name": "stdout",
     "output_type": "stream",
     "text": [
      "                                        index   Adj Close       Close  \\\n",
      "Symbol Sector      Date                                                 \n",
      "A      Health Care 2018-01-02               0   64.625580   67.599998   \n",
      "                   2018-01-03               1   66.269882   69.320000   \n",
      "                   2018-01-04               2   65.772766   68.800003   \n",
      "                   2018-01-05               3   66.824364   69.900002   \n",
      "                   2018-01-08               4   66.967758   70.050003   \n",
      "...                                       ...         ...         ...   \n",
      "SPY    Index       2023-12-22 00:00:00   1504  472.182892  473.649994   \n",
      "                   2023-12-26 00:00:00   1505  474.176697  475.649994   \n",
      "                   2023-12-27 00:00:00   1506  475.034058  476.510010   \n",
      "                   2023-12-28 00:00:00   1507  475.213501  476.690002   \n",
      "                   2023-12-29 00:00:00   1508  473.837769  475.309998   \n",
      "\n",
      "                                              High         Low        Open  \\\n",
      "Symbol Sector      Date                                                      \n",
      "A      Health Care 2018-01-02            67.889999   67.339996   67.419998   \n",
      "                   2018-01-03            69.489998   67.599998   67.620003   \n",
      "                   2018-01-04            69.820000   68.779999   69.540001   \n",
      "                   2018-01-05            70.099998   68.730003   68.730003   \n",
      "                   2018-01-08            70.330002   69.550003   69.730003   \n",
      "...                                            ...         ...         ...   \n",
      "SPY    Index       2023-12-22 00:00:00  475.380005  471.700012  473.859985   \n",
      "                   2023-12-26 00:00:00  476.579987  473.989990  474.070007   \n",
      "                   2023-12-27 00:00:00  476.660004  474.890015  475.440002   \n",
      "                   2023-12-28 00:00:00  477.549988  476.260010  476.880005   \n",
      "                   2023-12-29 00:00:00  477.029999  473.299988  476.489990   \n",
      "\n",
      "                                             Volume                      Name  \n",
      "Symbol Sector      Date                                                        \n",
      "A      Health Care 2018-01-02             1047800.0  Agilent Technologies Inc  \n",
      "                   2018-01-03             1698900.0  Agilent Technologies Inc  \n",
      "                   2018-01-04             2230700.0  Agilent Technologies Inc  \n",
      "                   2018-01-05             1632500.0  Agilent Technologies Inc  \n",
      "                   2018-01-08             1613400.0  Agilent Technologies Inc  \n",
      "...                                             ...                       ...  \n",
      "SPY    Index       2023-12-22 00:00:00   67126600.0                       SPY  \n",
      "                   2023-12-26 00:00:00   55387000.0                       SPY  \n",
      "                   2023-12-27 00:00:00   68000300.0                       SPY  \n",
      "                   2023-12-28 00:00:00   77158100.0                       SPY  \n",
      "                   2023-12-29 00:00:00  122234100.0                       SPY  \n",
      "\n",
      "[748702 rows x 8 columns]\n"
     ]
    }
   ],
   "source": [
    "import pandas as pd\n",
    "import numpy as np\n",
    "import pandas_datareader.data as web\n",
    "import datetime as dt\n",
    "import plotly.graph_objects as go\n",
    "from plotly.subplots import make_subplots\n",
    "\n",
    "sp500_stock_data = pd.read_csv(\n",
    "    \"../Data/sp500_stocks.csv\"\n",
    ")\n",
    "sp500_stock_names = pd.read_csv(\n",
    "    \"../Data/sp500_companies.csv\"\n",
    ")\n",
    "sp500_stock_names.loc[len(sp500_stock_names.index)] = [\n",
    "    \"SPY\",\n",
    "    \"SPY\",\n",
    "    \"Index\",\n",
    "]\n",
    "sp500_stock_names = sp500_stock_names.set_index(\"Symbol\")\n",
    "\n",
    "spy_data = pd.read_csv(\n",
    "    \"../Data/spy_daily.csv\"\n",
    ")\n",
    "spy_data[\"Date\"] = spy_data[\"Date\"].astype(\"datetime64[ns]\")\n",
    "spy_data[\"Open\"] = spy_data[\"Open\"].astype(\"float\")\n",
    "spy_data[\"High\"] = spy_data[\"High\"].astype(\"float\")\n",
    "spy_data[\"Low\"] = spy_data[\"Low\"].astype(\"float\")\n",
    "spy_data[\"Close\"] = spy_data[\"Close\"].astype(\"float\")\n",
    "spy_data[\"Volume\"] = spy_data[\"Volume\"].astype(\"float\")\n",
    "spy_data[\"Symbol\"] = \"SPY\"\n",
    "\n",
    "# combine all three dataframes\n",
    "sp500_stock_data = pd.concat([sp500_stock_data, spy_data])\n",
    "sp500_stock_data = sp500_stock_data.reset_index()\n",
    "sp500_stock_data = sp500_stock_data.join(sp500_stock_names, on=\"Symbol\", how=\"left\")\n",
    "# reindex with index as stock symbols\n",
    "sp500_stock_data = sp500_stock_data.set_index([\"Symbol\", \"Sector\", \"Date\"])\n",
    "print(sp500_stock_data)"
   ]
  },
  {
   "cell_type": "markdown",
   "id": "bc5ef77f",
   "metadata": {},
   "source": [
    "# Machine Learning Practice on Financial Data\n",
    "## Goal:\n",
    "- creating a simple machine learning algorithm that predicts price movements based on passed price chart data\n",
    "    - stocks used based on cointegration level -> goal is to use as many stocks to train the model as possible\n",
    "- in depth analysis of important metrics to evaluate the efficiency of the model\n",
    "- possible variations to further improve the model\n",
    "## Notebook Structure\n",
    "- determine Stock selection method\n",
    "- select features to predict target variable \"price movement\"\n",
    "- select model properties\n",
    "- fit model\n",
    "- predict model\n",
    "- evaluate model based on proven metrics"
   ]
  },
  {
   "cell_type": "code",
   "execution_count": null,
   "id": "5ad21c89",
   "metadata": {},
   "outputs": [],
   "source": [
    "# determine cointegration level of all sp500 stocks and select based on a threshold"
   ]
  }
 ],
 "metadata": {
  "kernelspec": {
   "display_name": "TradingStrategies",
   "language": "python",
   "name": "python3"
  },
  "language_info": {
   "codemirror_mode": {
    "name": "ipython",
    "version": 3
   },
   "file_extension": ".py",
   "mimetype": "text/x-python",
   "name": "python",
   "nbconvert_exporter": "python",
   "pygments_lexer": "ipython3",
   "version": "3.12.2"
  }
 },
 "nbformat": 4,
 "nbformat_minor": 5
}
