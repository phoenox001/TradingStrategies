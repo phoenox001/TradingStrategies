{
 "cells": [
  {
   "cell_type": "code",
   "execution_count": null,
   "id": "6cf31e41",
   "metadata": {},
   "outputs": [
    {
     "name": "stdout",
     "output_type": "stream",
     "text": [
      "                                index   Adj Close       Close        High  \\\n",
      "Symbol Sector      Date                                                     \n",
      "A      Health Care 2018-01-02       0   64.625580   67.599998   67.889999   \n",
      "                   2018-01-03       1   66.269882   69.320000   69.489998   \n",
      "                   2018-01-04       2   65.772766   68.800003   69.820000   \n",
      "                   2018-01-05       3   66.824364   69.900002   70.099998   \n",
      "                   2018-01-08       4   66.967758   70.050003   70.330002   \n",
      "...                               ...         ...         ...         ...   \n",
      "ZTS    NaN         2023-12-22  747188  194.538773  194.979996  195.910004   \n",
      "                   2023-12-26  747189  195.057587  195.500000  196.339996   \n",
      "                   2023-12-27  747190  196.454422  196.899994  197.009995   \n",
      "                   2023-12-28  747191  196.713837  197.160004  198.600006   \n",
      "                   2023-12-29  747192  196.923355  197.369995  198.009995   \n",
      "\n",
      "                                      Low        Open     Volume  \\\n",
      "Symbol Sector      Date                                            \n",
      "A      Health Care 2018-01-02   67.339996   67.419998  1047800.0   \n",
      "                   2018-01-03   67.599998   67.620003  1698900.0   \n",
      "                   2018-01-04   68.779999   69.540001  2230700.0   \n",
      "                   2018-01-05   68.730003   68.730003  1632500.0   \n",
      "                   2018-01-08   69.550003   69.730003  1613400.0   \n",
      "...                                   ...         ...        ...   \n",
      "ZTS    NaN         2023-12-22  192.740005  195.320007  1548400.0   \n",
      "                   2023-12-26  194.089996  194.880005   814600.0   \n",
      "                   2023-12-27  194.740005  195.410004   766400.0   \n",
      "                   2023-12-28  196.529999  197.619995   880100.0   \n",
      "                   2023-12-29  196.250000  196.679993  1007200.0   \n",
      "\n",
      "                                                   Name  \n",
      "Symbol Sector      Date                                  \n",
      "A      Health Care 2018-01-02  Agilent Technologies Inc  \n",
      "                   2018-01-03  Agilent Technologies Inc  \n",
      "                   2018-01-04  Agilent Technologies Inc  \n",
      "                   2018-01-05  Agilent Technologies Inc  \n",
      "                   2018-01-08  Agilent Technologies Inc  \n",
      "...                                                 ...  \n",
      "ZTS    NaN         2023-12-22                       NaN  \n",
      "                   2023-12-26                       NaN  \n",
      "                   2023-12-27                       NaN  \n",
      "                   2023-12-28                       NaN  \n",
      "                   2023-12-29                       NaN  \n",
      "\n",
      "[747193 rows x 8 columns]\n"
     ]
    }
   ],
   "source": [
    "import pandas as pd\n",
    "import numpy as np\n",
    "import pandas_datareader.data as web\n",
    "import datetime as dt\n",
    "import plotly.graph_objects as go\n",
    "from arch.unitroot import VarianceRatio\n",
    "from plotly.subplots import make_subplots\n",
    "\n",
    "sp500_stock_data = pd.read_csv(\n",
    "    \"../Data/sp500_stocks.csv\"\n",
    ")\n",
    "sp500_stock_data[\"Date\"] = sp500_stock_data[\"Date\"].astype(\"datetime64[ns]\")\n",
    "\n",
    "sp500_stock_names = pd.read_csv(\n",
    "    \"../Data/sp500_companies.csv\"\n",
    ")\n",
    "sp500_stock_names.loc[len(sp500_stock_names.index)] = [\n",
    "    \"SPY\",\n",
    "    \"SPY\",\n",
    "    \"Index\",\n",
    "]\n",
    "sp500_stock_names = sp500_stock_names.set_index(\"Symbol\")\n",
    "\n",
    "spy_data = pd.read_csv(\n",
    "    \"../Data/spy_daily.csv\"\n",
    ")\n",
    "spy_data[\"Date\"] = spy_data[\"Date\"].astype(\"datetime64[ns]\")\n",
    "spy_data[\"Open\"] = spy_data[\"Open\"].astype(\"float\")\n",
    "spy_data[\"High\"] = spy_data[\"High\"].astype(\"float\")\n",
    "spy_data[\"Low\"] = spy_data[\"Low\"].astype(\"float\")\n",
    "spy_data[\"Close\"] = spy_data[\"Close\"].astype(\"float\")\n",
    "spy_data[\"Volume\"] = spy_data[\"Volume\"].astype(\"float\")\n",
    "spy_data[\"Symbol\"] = \"SPY\"\n",
    "\n",
    "# combine all three dataframes\n",
    "# sp500_stock_data = pd.concat([sp500_stock_data, spy_data])\n",
    "sp500_stock_data = sp500_stock_data.reset_index()\n",
    "sp500_stock_data = sp500_stock_data.join(sp500_stock_names, on=\"Symbol\", how=\"left\")\n",
    "# reindex with index as stock symbols\n",
    "sp500_stock_data = sp500_stock_data.set_index([\"Symbol\", \"Sector\", \"Date\"])"
   ]
  },
  {
   "cell_type": "markdown",
   "id": "bc5ef77f",
   "metadata": {},
   "source": [
    "# Backtesting Practice on Financial Data\n",
    "## Goal:\n",
    "- creating a simple strategy that predicts price movements based on passed price chart data\n",
    "    - stocks used based on stationarity\n",
    "- in depth analysis of important metrics to evaluate the efficiency of the strategy\n",
    "- possible variations to further improve the strategy\n",
    "## Notebook Structure\n",
    "- determine Stock selection method\n",
    "- select features to predict target variable \"price movement\"\n",
    "- select strategy, indicators, and necessary components\n",
    "- backtest strategy\n",
    "- evaluate strategy based on proven metrics"
   ]
  },
  {
   "cell_type": "markdown",
   "id": "33b842f1",
   "metadata": {},
   "source": [
    "### Calculate Hurst exponent and Variance Ration Test"
   ]
  },
  {
   "cell_type": "code",
   "execution_count": 1,
   "id": "5ad21c89",
   "metadata": {},
   "outputs": [],
   "source": [
    "# measure momentum of a stock, \n",
    "# use hurst exponent and variance ratio test to rule out random walk, \n",
    "lags = range(2, 100)\n",
    "\n",
    "def hurst_exponent(ts, lags = range(2, 20)):\n",
    "    \"\"\"\n",
    "    Calculate the Hurst Exponent of a time series\n",
    "    \"\"\"\n",
    "    tau = [np.sqrt(np.std(np.subtract(ts[lag:], ts[:-lag]))) for lag in lags]\n",
    "    log_lags = np.log(lags)\n",
    "    log_tau = np.log(tau)\n",
    "    hurst = np.polyfit(log_lags, log_tau, 1)\n",
    "    hurst_exponent = hurst[0] * 2\n",
    "    return hurst_exponent\n",
    "\n",
    "def variance_ratio_test(ts, lags = range(2, 20)):\n",
    "    \"\"\"\n",
    "    Calculate the Variance Ratio of a time series for multiple lags and return the lag with the lowest p-value\n",
    "    \"\"\"\n",
    "    vr = pd.DataFrame([], columns = [\"lag\", \"pvalue\"])\n",
    "    for lag in lags:\n",
    "        vr.loc[len(vr.index)] = [lag, VarianceRatio(ts, lag).pvalue]\n",
    "    vr = vr.sort_values(by = \"pvalue\")\n",
    "    return vr.iloc[0]\n",
    "\n",
    "# prove correlation between the returns of the stock with correlation coefficient\n",
    "def prove_correlation(ts, lags = range(2, 20)):\n",
    "    \"\"\"\n",
    "    Prove correlation between the returns of the stock\n",
    "    \"\"\"\n",
    "    hurst = hurst_exponent(ts)\n",
    "    vr = variance_ratio_test(ts)\n",
    "    vrPvalue = vr.loc[\"pvalue\"]\n",
    "    lag = vr.loc[\"lag\"]\n",
    "    return hurst, vr, lag"
   ]
  },
  {
   "cell_type": "markdown",
   "id": "636a9447",
   "metadata": {},
   "source": [
    "### Decide which stock should be tested"
   ]
  },
  {
   "cell_type": "code",
   "execution_count": 2,
   "id": "ca0d5f9c",
   "metadata": {},
   "outputs": [],
   "source": [
    "# calculate the hurst exponent and variance ratio test for each stock\n",
    "def calculate_hurst_and_variance_ratio(sp500_stock_data):\n",
    "    hurst = pd.DataFrame([], columns = [\"Hurst\", \"VarianceRatio\", \"Lag\"])\n",
    "    for stock in sp500_stock_data.index.levels[0]:\n",
    "        stock_data = sp500_stock_data.loc[stock]\n",
    "        stock_data = stock_data.sort_values(by = \"Date\")\n",
    "        stock_data = stock_data.set_index(\"Date\")\n",
    "        stock_data = stock_data[\"Close\"]\n",
    "        stock_data = stock_data.pct_change()\n",
    "        hurst.loc[len(hurst.index)] = [stock, *prove_correlation(stock_data)]\n",
    "    return hurst\n",
    "\n",
    "# check which stocks fulfill the criteria for momentum\n",
    "def check_momentum(hurst):\n",
    "    momentum = hurst[hurst[\"Hurst\"] > 0.6]\n",
    "    momentum = momentum[momentum[\"VarianceRatio\"] < 0.05]\n",
    "    return momentum\n",
    "\n",
    "# check which stocks fulfill the criteria for mean reversion\n",
    "# def check_mean_reversion(hurst):\n",
    "#     mean_reversion = hurst[hurst[\"Hurst\"] < 0.5]\n",
    "#     mean_reversion = mean_reversion[mean_reversion[\"VarianceRatio\"] < 0.05]\n",
    "#     return mean_reversion"
   ]
  },
  {
   "cell_type": "markdown",
   "id": "7139e741",
   "metadata": {},
   "source": [
    "### Set the target and feature variables and choose model\n",
    "target variable: \n",
    "- future pct change in prices or future close price\n",
    "\n",
    "independent variables:\n",
    "- current price\n",
    "- momentum indicator -> RSI\n",
    "- stock name / symbol\n",
    "- Sector\n",
    "- Volume\n",
    "\n",
    "\n",
    "Models I want to try out:\n",
    "- Long Short-Term Memory\n",
    "- Recurrent Neural Networks\n",
    "- Hidden Markov Model"
   ]
  },
  {
   "cell_type": "code",
   "execution_count": null,
   "id": "45195d23",
   "metadata": {},
   "outputs": [],
   "source": [
    "# fit long short-term memory model"
   ]
  },
  {
   "cell_type": "code",
   "execution_count": null,
   "id": "6d615303",
   "metadata": {},
   "outputs": [],
   "source": [
    "# fit recurrent neural network model"
   ]
  },
  {
   "cell_type": "code",
   "execution_count": null,
   "id": "f28eb2c7",
   "metadata": {},
   "outputs": [],
   "source": [
    "# fit hidden markov model"
   ]
  },
  {
   "cell_type": "markdown",
   "id": "6f44ff58",
   "metadata": {},
   "source": [
    "### Evaluation metrics of models\n",
    "\n",
    "- MAE\n",
    "- RMSE\n",
    "- MAPE\n",
    "- Forecast Bias"
   ]
  }
 ],
 "metadata": {
  "kernelspec": {
   "display_name": "TradingStrategies",
   "language": "python",
   "name": "python3"
  },
  "language_info": {
   "codemirror_mode": {
    "name": "ipython",
    "version": 3
   },
   "file_extension": ".py",
   "mimetype": "text/x-python",
   "name": "python",
   "nbconvert_exporter": "python",
   "pygments_lexer": "ipython3",
   "version": "3.12.2"
  }
 },
 "nbformat": 4,
 "nbformat_minor": 5
}
